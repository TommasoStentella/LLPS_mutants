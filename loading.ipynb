{
 "cells": [
  {
   "cell_type": "markdown",
   "id": "e6c93a22-ee3a-4c7b-9358-a158114a7241",
   "metadata": {},
   "source": [
    "# ML based prediction of condensation promoting or decreasing mutation"
   ]
  },
  {
   "cell_type": "markdown",
   "id": "b5ca865b-1833-49d9-be0d-a519319daeeb",
   "metadata": {},
   "source": [
    "Instead of a bio-chemistry driven approach like in [cite], I take a mainly statistical perspective"
   ]
  },
  {
   "cell_type": "code",
   "execution_count": 87,
   "id": "fd563ad1-c7b0-4d56-8685-31be31e85b04",
   "metadata": {},
   "outputs": [
    {
     "name": "stderr",
     "output_type": "stream",
     "text": [
      "\u001b[32m\u001b[1m  Activating\u001b[22m\u001b[39m project at `~/Documents/Materiale UNI/V anno/Biological Datasets/code/project`\n"
     ]
    }
   ],
   "source": [
    "using Pkg; Pkg.activate(\"project\")\n",
    "using FASTX\n",
    "using CSV\n",
    "using PyPlot\n",
    "using DataFrames\n",
    "using ScikitLearn\n",
    "using Random\n",
    "using Seaborn\n",
    "using Statistics\n",
    "using LinearAlgebra"
   ]
  },
  {
   "attachments": {},
   "cell_type": "markdown",
   "id": "0c54ee2e-56df-4dd0-9684-12a51c9834d5",
   "metadata": {},
   "source": [
    "## Loading data and creating a uniform input dataset\n",
    "\n",
    "First I create csv for reducing and promoting condensation mutations, each row has the protein id in the first column and a variable number of columns for the mutations of the protein (in the format AXB).\n",
    "I read all wild type fasta and create a vector for the data-points in which each element is a 3-element vector with the wt sequence, the mutated sequence and the annotation of c or d. For the folder with condensing or disolving fasta I reconstruct the original wt using the mutation in the header and add also these data to the vector mentioned above so to have a uniform format for all available data.\n",
    "(error in P22626,O43781, the given mutations refer to the second isoform, not the main one. For P10636 both isoform 5 and 8 are compatible, i take 5. In P31483 there seems to be an error in the mutation cell, i remove 3185 and the second appearing id. I completely ignore P04150 as none of the wt residues match with any isoform. P29350 to isoform 3. ignore Q9UM73, mentioned mutation position is even longer than the sequence, foggy explanation in the paper. removed E1394K from Q13402, does not appear to exist. substituted Q9UPQ9 with the partner Q9UKV8, the mutations are referred to that. ignored Q96PV0, removed L539K in Q9Y5K6, not present nowhere. P42858 ignored. removed S48E,E17R,Y4R,W334G,W385G,W412G from Q13283)"
   ]
  },
  {
   "cell_type": "code",
   "execution_count": 2,
   "id": "e9c16757-5cae-43e3-88c9-0da3269a6fdf",
   "metadata": {},
   "outputs": [],
   "source": [
    "# READING WILD TYPE .fasta\n",
    "listdir = readdir(\"../data/WT\")\n",
    "\n",
    "w_seq = []\n",
    "w_id = []\n",
    "for f in listdir\n",
    "    FASTAReader(open(\"../data/WT/$f\")) do reader\n",
    "       for record in reader\n",
    "            push!(w_seq, sequence(record))\n",
    "            push!(w_id, description(record))\n",
    "       end\n",
    "    end\n",
    "end\n",
    "\n",
    "# READING CONDENSATION PROMOTING MUTATIONS AND MATCHING WITH CORRESPONDING SEQUENCE\n",
    "df = CSV.read(\"../data/promote.txt\",DataFrame,header=0,silencewarnings=true)\n",
    "\n",
    "data = []\n",
    "for r in eachrow(df)\n",
    "    i = 2\n",
    "    id = r[1]\n",
    "    mut = r[i]\n",
    "    while typeof(mut) != Missing\n",
    "        temp = []\n",
    "        push!(temp, w_seq[w_id .== id][1])\n",
    "        length(mut) < 3 && error(\"mutation wrong \", mut)\n",
    "        mu_position = parse(Int,mut[2:end-1])\n",
    "        mu_seq = temp[1]\n",
    "        if mu_seq[mu_position] == mut[1]\n",
    "            if mut[end] != 'X'\n",
    "                first = mu_seq[1:mu_position-1]\n",
    "                last = mu_seq[mu_position+1:end]\n",
    "                mu_seq = \"$first$(mut[end])$last\"\n",
    "            else\n",
    "                mu_seq = mu_seq[1:mu_position-1]\n",
    "            end\n",
    "        else\n",
    "            println(mu_seq[mu_position],\" \",mut[1],\" \",id,\" \",mu_position)\n",
    "            error(\"mutated sequence and mutation annotations do not match\")\n",
    "        end\n",
    "        push!(temp, mu_seq)\n",
    "        push!(temp, 1) # condensate\n",
    "        push!(data, temp)\n",
    "        i = i < length(r) ? i + 1 : break\n",
    "        mut = r[i]\n",
    "    end\n",
    "end\n",
    "\n",
    "# READING CONDENSATION REDUCING MUTATIONS AND MATCHING WITH CORRESPONDING SEQUENCE\n",
    "df = CSV.read(\"../data/reduce.txt\",DataFrame,header=0,silencewarnings=true)\n",
    "for r in eachrow(df)\n",
    "    i = 2\n",
    "    id = r[1]\n",
    "    mut = r[i]\n",
    "    while typeof(mut) != Missing\n",
    "        temp = []\n",
    "        push!(temp, w_seq[w_id .== id][1])\n",
    "        length(mut) < 3 && error(\"mutation wrong \", mut)\n",
    "        mu_position = parse(Int,mut[2:end-1])\n",
    "        mu_seq = temp[1]\n",
    "        if mu_seq[mu_position] == mut[1]\n",
    "            if mut[end] != 'X'\n",
    "                first = mu_seq[1:mu_position-1]\n",
    "                last = mu_seq[mu_position+1:end]\n",
    "                mu_seq = \"$first$(mut[end])$last\"\n",
    "            else\n",
    "                mu_seq = mu_seq[1:mu_position-1]\n",
    "            end\n",
    "        else\n",
    "            println(mu_seq[mu_position],\" \",mut[1],\" \",id,\" \",mu_position)\n",
    "            error(\"mutated sequence and mutation annotations do not match\")\n",
    "        end\n",
    "        push!(temp, mu_seq)\n",
    "        push!(temp, -1) # disolve\n",
    "        push!(data, temp)\n",
    "        i = i < length(r) ? i + 1 : break\n",
    "        mut = r[i]\n",
    "    end\n",
    "end\n",
    "\n",
    "listdir = readdir(\"../data/COND\")\n",
    "\n",
    "_seq = []\n",
    "_id = []\n",
    "for f in listdir\n",
    "    FASTAReader(open(\"../data/COND/$f\")) do reader\n",
    "       for record in reader\n",
    "            push!(_seq, sequence(record))\n",
    "            push!(_id, description(record))\n",
    "       end\n",
    "    end\n",
    "end\n",
    "\n",
    "for (i,j) in zip(_seq,_id)\n",
    "    temp = []\n",
    "    mut = j[findfirst('_',j)+1:end]\n",
    "    id = j[1:findfirst('_',j)-1]\n",
    "    if findfirst(x -> x == id, w_id) != nothing\n",
    "        continue\n",
    "    end\n",
    "    mu_position = parse(Int,mut[2:end-1])\n",
    "    wt = i\n",
    "    if wt[mu_position] == mut[end]\n",
    "        if mut[end] != 'X'\n",
    "            first = wt[1:mu_position-1]\n",
    "            last = wt[mu_position+1:end]\n",
    "            wt = \"$first$(mut[1])$last\"\n",
    "        else\n",
    "            wt = \"\"\n",
    "            print(\"wt not reconstructed\")\n",
    "        end\n",
    "    else\n",
    "        println(mu_seq[mu_position],\" \",mut[1],\" \",id,\" \",mu_position)\n",
    "        error(\"mutated sequence and mutation annotations do not match\")\n",
    "    end\n",
    "    push!(temp, wt)\n",
    "    length(mut) < 3 && error(\"mutation wrong \", mut)\n",
    "    push!(temp, mut)\n",
    "    push!(temp, 1)\n",
    "    push!(data, temp)\n",
    "end\n",
    "\n",
    "listdir = readdir(\"../data/DISOLV\")\n",
    "\n",
    "_seq = []\n",
    "_id = []\n",
    "for f in listdir\n",
    "    FASTAReader(open(\"../data/DISOLV/$f\")) do reader\n",
    "       for record in reader\n",
    "            push!(_seq, sequence(record))\n",
    "            push!(_id, description(record))\n",
    "       end\n",
    "    end\n",
    "end\n",
    "\n",
    "for (i,j) in zip(_seq,_id)\n",
    "    temp = []\n",
    "    mut = j[findfirst('_',j)+1:end]\n",
    "    id = j[1:findfirst('_',j)-1]\n",
    "    if findfirst(x -> x == id, w_id) != nothing\n",
    "        continue\n",
    "    end\n",
    "    mu_position = parse(Int,mut[2:end-1])\n",
    "    wt = i\n",
    "    if wt[mu_position] == mut[end]\n",
    "        if mut[end] != 'X'\n",
    "            first = wt[1:mu_position-1]\n",
    "            last = wt[mu_position+1:end]\n",
    "            wt = \"$first$(mut[1])$last\"\n",
    "        else\n",
    "            wt = \"\"\n",
    "            print(\"wt not reconstructed\")\n",
    "        end\n",
    "    else\n",
    "        println(mu_seq[mu_position],\" \",mut[1],\" \",id,\" \",mu_position)\n",
    "        error(\"mutated sequence and mutation annotations do not match\")\n",
    "    end\n",
    "    push!(temp, wt)\n",
    "    length(mut) < 3 && error(\"mutation wrong \", mut)\n",
    "    push!(temp, mut)\n",
    "    push!(temp, -1)\n",
    "    push!(data, temp)\n",
    "end\n",
    "    "
   ]
  },
  {
   "cell_type": "markdown",
   "id": "aa529cf4-5212-4801-a4d8-51d1dfa60829",
   "metadata": {},
   "source": [
    "## Preprocessing of data\n",
    "\n",
    "Here I use the data together with prior knowledge of the physical characteristics of residues to compute some statistics which will be later fed into a ML algorithm. In such a way the whole prediction procedure is only sequence baseed and the information not strictly sequence related is embedded in the code."
   ]
  },
  {
   "cell_type": "markdown",
   "id": "67b52dfd-b188-4178-acd4-b5f004b9c129",
   "metadata": {},
   "source": [
    "### Computing $\\Delta S$"
   ]
  },
  {
   "cell_type": "code",
   "execution_count": 3,
   "id": "6d0e1075-651d-4c82-8921-50acf1fbf863",
   "metadata": {},
   "outputs": [],
   "source": [
    "amino = ['A','C','D','E','F','G','H','I','K','L','M','N','P','Q','R','S','T','V','W','Y'];"
   ]
  },
  {
   "cell_type": "code",
   "execution_count": 4,
   "id": "d4a42bd0-53c9-40d0-9330-a043bcb3dc67",
   "metadata": {},
   "outputs": [],
   "source": [
    "DS = map(data) do d\n",
    "    p_i = zeros(length(amino))\n",
    "    p_i = map(p_i,amino) do p,a\n",
    "        for i in d[1]\n",
    "            if a == i \n",
    "                p += 1 \n",
    "            end\n",
    "        end\n",
    "        p = p / length(d[1])\n",
    "    end\n",
    "    p_i = p_i[p_i .> 0]\n",
    "    S_wt = - sum(p*log(p) for p in p_i)\n",
    "    p_i = zeros(length(amino))\n",
    "    p_i = map(p_i,amino) do p,a\n",
    "        for i in d[2]\n",
    "            if a == i \n",
    "                p += 1 \n",
    "            end\n",
    "        end\n",
    "        p = p / length(d[2])\n",
    "    end\n",
    "    p_i = p_i[p_i .> 0]\n",
    "    S_mu = - sum(p*log(p) for p in p_i)\n",
    "    S_mu - S_wt\n",
    "end;"
   ]
  },
  {
   "cell_type": "markdown",
   "id": "f2c47ad7",
   "metadata": {},
   "source": [
    "### KL divergence"
   ]
  },
  {
   "cell_type": "code",
   "execution_count": 5,
   "id": "4a237cb2",
   "metadata": {},
   "outputs": [],
   "source": [
    "KL = map(data) do d\n",
    "    p_i = zeros(length(amino))\n",
    "    p_i = map(p_i,amino) do p,a\n",
    "        for i in d[1]\n",
    "            if a == i \n",
    "                p += 1 \n",
    "            end\n",
    "        end\n",
    "        p = p / length(d[1])\n",
    "    end\n",
    "    q_i = zeros(length(amino))\n",
    "    q_i = map(q_i,amino) do p,a\n",
    "        for i in d[2]\n",
    "            if a == i \n",
    "                p += 1 \n",
    "            end\n",
    "        end\n",
    "        p = p / length(d[2])\n",
    "    end\n",
    "    KL_i = map(p_i,q_i) do p,q\n",
    "        if p == 0\n",
    "            0\n",
    "        elseif q == 0\n",
    "            1e20\n",
    "        else\n",
    "            p*log(p/q)\n",
    "        end\n",
    "    end\n",
    "    sum(KL_i)\n",
    "end;"
   ]
  },
  {
   "cell_type": "markdown",
   "id": "7d622073",
   "metadata": {},
   "source": [
    "### Hydrophobicity change"
   ]
  },
  {
   "cell_type": "code",
   "execution_count": 6,
   "id": "bfa750a4",
   "metadata": {},
   "outputs": [],
   "source": [
    "#amino = ['A','C','D','E','F','G','H','I','K','L','M','N','P','Q','R','S','T','V','W','Y']\n",
    "charge = [\"NP\", \"NP\", \"-\", \"-\", \"NP\", \"NP\", \"+\", \"NP\", \"+\", \"NP\", \"NP\", \"P\", \"NP\", \"P\", \"+\", \"P\", \"P\", \"NP\", \"NP\", \"P\"];\n",
    "charge_dict = Dict(zip(amino,charge));"
   ]
  },
  {
   "cell_type": "code",
   "execution_count": 7,
   "id": "a5546bd2",
   "metadata": {},
   "outputs": [],
   "source": [
    "HP = map(data) do d\n",
    "    temp = 0\n",
    "    for (w,m) in zip(d[1],d[2])\n",
    "        if w == m\n",
    "            continue\n",
    "        elseif (charge_dict[w] == \"NP\") && (charge_dict[m] == \"P\" || charge_dict[m] == \"+\" || charge_dict[m] == \"-\")\n",
    "            temp += 1\n",
    "        elseif (charge_dict[m] == \"NP\") && (charge_dict[w] == \"P\" || charge_dict[w] == \"+\" || charge_dict[w] == \"-\")\n",
    "            temp += 1\n",
    "        end\n",
    "    end\n",
    "    if length(d[1]) > length(d[2])\n",
    "        temp =  temp + length(d[1]) - length(d[2])\n",
    "    end\n",
    "    temp\n",
    "end;"
   ]
  },
  {
   "cell_type": "markdown",
   "id": "b959f26c",
   "metadata": {},
   "source": [
    "### Charge change"
   ]
  },
  {
   "cell_type": "code",
   "execution_count": 8,
   "id": "67583afb",
   "metadata": {},
   "outputs": [],
   "source": [
    "CC = map(data) do d\n",
    "    temp = 0\n",
    "    for (w,m) in zip(d[1],d[2])\n",
    "        if w == m \n",
    "            continue\n",
    "        elseif (charge_dict[w] == \"NP\" || charge_dict[w] == \"P\") && (charge_dict[m] == \"+\")\n",
    "            temp += 1\n",
    "        elseif (charge_dict[w] == \"NP\" || charge_dict[w] == \"P\") && (charge_dict[m] == \"-\")\n",
    "            temp -= 1\n",
    "        elseif (charge_dict[m] == \"NP\" || charge_dict[m] == \"P\") && (charge_dict[w] == \"+\")\n",
    "            temp -= 1\n",
    "        elseif (charge_dict[m] == \"NP\" || charge_dict[m] == \"P\") && (charge_dict[w] == \"-\")\n",
    "            temp += 1\n",
    "        elseif charge_dict[w] == \"+\" && charge_dict[m] == \"-\"\n",
    "            temp = temp - 2\n",
    "        elseif charge_dict[m] == \"+\" && charge_dict[w] == \"-\"\n",
    "            temp = temp + 2\n",
    "        end\n",
    "    end\n",
    "    if length(d[1]) > length(d[2])\n",
    "        for w in d[1][length(d[2])+1:end]\n",
    "            if charge_dict[w] == \"+\"\n",
    "                temp -= 1\n",
    "            elseif charge_dict[w] == \"-\"\n",
    "                temp += 1\n",
    "            end\n",
    "        end\n",
    "    end\n",
    "    temp\n",
    "end;"
   ]
  },
  {
   "cell_type": "markdown",
   "id": "4d274561",
   "metadata": {},
   "source": [
    "## Training the model\n",
    "\n",
    "try gradient boosted tree"
   ]
  },
  {
   "cell_type": "code",
   "execution_count": 9,
   "id": "b3811455",
   "metadata": {},
   "outputs": [
    {
     "name": "stderr",
     "output_type": "stream",
     "text": [
      "\u001b[36m\u001b[1m[ \u001b[22m\u001b[39m\u001b[36m\u001b[1mInfo: \u001b[22m\u001b[39mmkl not found, proceeding to installing non-mkl versions of sci-kit learn via Conda\n",
      "\u001b[36m\u001b[1m[ \u001b[22m\u001b[39m\u001b[36m\u001b[1mInfo: \u001b[22m\u001b[39mRunning `conda install -y -c conda-forge 'scikit-learn>=1.2,<1.3'` in root environment\n"
     ]
    },
    {
     "name": "stdout",
     "output_type": "stream",
     "text": [
      "Collecting package metadata (current_repodata.json): ...working... done\n",
      "Solving environment: ...working... done\n",
      "\n",
      "# All requested packages already installed.\n",
      "\n"
     ]
    },
    {
     "name": "stderr",
     "output_type": "stream",
     "text": [
      "\n",
      "\n",
      "==> WARNING: A newer version of conda exists. <==\n",
      "  current version: 23.3.1\n",
      "  latest version: 23.11.0\n",
      "\n",
      "Please update conda by running\n",
      "\n",
      "    $ conda update -n base -c conda-forge conda\n",
      "\n",
      "Or to minimize the number of packages updated during conda update use\n",
      "\n",
      "     conda install conda=23.11.0\n",
      "\n",
      "\n",
      "\u001b[33m\u001b[1m┌ \u001b[22m\u001b[39m\u001b[33m\u001b[1mWarning: \u001b[22m\u001b[39mModule model_selection has been ported to Julia - try `import ScikitLearn: CrossValidation` instead\n",
      "\u001b[33m\u001b[1m└ \u001b[22m\u001b[39m\u001b[90m@ ScikitLearn.Skcore ~/.julia/packages/ScikitLearn/sqLdT/src/Skcore.jl:259\u001b[39m\n"
     ]
    },
    {
     "data": {
      "text/plain": [
       "PyObject <class 'sklearn.model_selection._search.GridSearchCV'>"
      ]
     },
     "execution_count": 9,
     "metadata": {},
     "output_type": "execute_result"
    }
   ],
   "source": [
    "@sk_import ensemble: GradientBoostingClassifier\n",
    "@sk_import model_selection: GridSearchCV"
   ]
  },
  {
   "cell_type": "markdown",
   "id": "ca56053b",
   "metadata": {},
   "source": [
    "assuming it makes sense to separate mutations happening on the same protein"
   ]
  },
  {
   "cell_type": "code",
   "execution_count": 10,
   "id": "4ded7403",
   "metadata": {},
   "outputs": [],
   "source": [
    "Y = [i[3] for i in data]\n",
    "X = Matrix(undef,length(Y),4)\n",
    "X[:,1] = DS\n",
    "X[:,2] = KL\n",
    "X[:,3] = HP\n",
    "X[:,4] = CC\n",
    "\n",
    "Random.seed!(12345)\n",
    "perm = randperm(length(Y))\n",
    "Y = Y[perm]\n",
    "X = X[perm,:]\n",
    "\n",
    "train = Int(trunc(length(Y) * 0.8))\n",
    "X_train = X[1:train,:]\n",
    "Y_train = Y[1:train]\n",
    "X_test = X[train+1:end,:]\n",
    "Y_test = Y[train+1:end];"
   ]
  },
  {
   "cell_type": "markdown",
   "id": "e297b266",
   "metadata": {},
   "source": [
    "### correlation between features"
   ]
  },
  {
   "cell_type": "code",
   "execution_count": 91,
   "id": "7836a9d9",
   "metadata": {},
   "outputs": [
    {
     "data": {
      "image/png": "[encoded data removed]",
      "text/plain": [
       "Figure(PyObject <Figure size 640x480 with 2 Axes>)"
      ]
     },
     "metadata": {},
     "output_type": "display_data"
    }
   ],
   "source": [
    "cor_mat = cor(X)\n",
    "features = [\"DS\",\"KL\",\"HP\",\"CC\"]\n",
    "mask = triu(ones(4,4))\n",
    "heatmap(cor_mat,mask=mask,cmap=\"vlag\",annot=true,linewidths=0.5,center=0,xticklabels=features,yticklabels=features);"
   ]
  },
  {
   "cell_type": "markdown",
   "id": "02e2dcae",
   "metadata": {},
   "source": [
    "is the dataset representative of the actual mutation distribution (i.e. condensation promoting mutations happen less often)?"
   ]
  },
  {
   "cell_type": "code",
   "execution_count": 54,
   "id": "521128d9",
   "metadata": {},
   "outputs": [
    {
     "data": {
      "text/plain": [
       "(0.17475728155339806, 0.8252427184466019)"
      ]
     },
     "execution_count": 54,
     "metadata": {},
     "output_type": "execute_result"
    }
   ],
   "source": [
    "length(Y[Y .== 1])/length(Y), length(Y[Y .== -1])/length(Y)"
   ]
  },
  {
   "cell_type": "code",
   "execution_count": 11,
   "id": "7faad339",
   "metadata": {},
   "outputs": [
    {
     "data": {
      "text/plain": [
       "Dict{String, Vector} with 3 entries:\n",
       "  \"max_depth\"     => [1, 2, 3, 5, 10, 15]\n",
       "  \"learning_rate\" => [1.0, 0.1, 0.05, 0.01]\n",
       "  \"n_estimators\"  => [100, 1000, 10000]"
      ]
     },
     "execution_count": 11,
     "metadata": {},
     "output_type": "execute_result"
    }
   ],
   "source": [
    "BDT = GradientBoostingClassifier(random_state=0)\n",
    "params = Dict(\"n_estimators\" => [100,1000,10000], \n",
    "              \"learning_rate\" => [1.,0.1,0.05,0.01],\n",
    "              \"max_depth\" => [1,2,3,5,10,15])"
   ]
  },
  {
   "cell_type": "code",
   "execution_count": 12,
   "id": "c436d73c",
   "metadata": {},
   "outputs": [
    {
     "data": {
      "text/html": [
       "<style>#sk-container-id-3 {color: black;background-color: white;}#sk-container-id-3 pre{padding: 0;}#sk-container-id-3 div.sk-toggleable {background-color: white;}#sk-container-id-3 label.sk-toggleable__label {cursor: pointer;display: block;width: 100%;margin-bottom: 0;padding: 0.3em;box-sizing: border-box;text-align: center;}#sk-container-id-3 label.sk-toggleable__label-arrow:before {content: \"▸\";float: left;margin-right: 0.25em;color: #696969;}#sk-container-id-3 label.sk-toggleable__label-arrow:hover:before {color: black;}#sk-container-id-3 div.sk-estimator:hover label.sk-toggleable__label-arrow:before {color: black;}#sk-container-id-3 div.sk-toggleable__content {max-height: 0;max-width: 0;overflow: hidden;text-align: left;background-color: #f0f8ff;}#sk-container-id-3 div.sk-toggleable__content pre {margin: 0.2em;color: black;border-radius: 0.25em;background-color: #f0f8ff;}#sk-container-id-3 input.sk-toggleable__control:checked~div.sk-toggleable__content {max-height: 200px;max-width: 100%;overflow: auto;}#sk-container-id-3 input.sk-toggleable__control:checked~label.sk-toggleable__label-arrow:before {content: \"▾\";}#sk-container-id-3 div.sk-estimator input.sk-toggleable__control:checked~label.sk-toggleable__label {background-color: #d4ebff;}#sk-container-id-3 div.sk-label input.sk-toggleable__control:checked~label.sk-toggleable__label {background-color: #d4ebff;}#sk-container-id-3 input.sk-hidden--visually {border: 0;clip: rect(1px 1px 1px 1px);clip: rect(1px, 1px, 1px, 1px);height: 1px;margin: -1px;overflow: hidden;padding: 0;position: absolute;width: 1px;}#sk-container-id-3 div.sk-estimator {font-family: monospace;background-color: #f0f8ff;border: 1px dotted black;border-radius: 0.25em;box-sizing: border-box;margin-bottom: 0.5em;}#sk-container-id-3 div.sk-estimator:hover {background-color: #d4ebff;}#sk-container-id-3 div.sk-parallel-item::after {content: \"\";width: 100%;border-bottom: 1px solid gray;flex-grow: 1;}#sk-container-id-3 div.sk-label:hover label.sk-toggleable__label {background-color: #d4ebff;}#sk-container-id-3 div.sk-serial::before {content: \"\";position: absolute;border-left: 1px solid gray;box-sizing: border-box;top: 0;bottom: 0;left: 50%;z-index: 0;}#sk-container-id-3 div.sk-serial {display: flex;flex-direction: column;align-items: center;background-color: white;padding-right: 0.2em;padding-left: 0.2em;position: relative;}#sk-container-id-3 div.sk-item {position: relative;z-index: 1;}#sk-container-id-3 div.sk-parallel {display: flex;align-items: stretch;justify-content: center;background-color: white;position: relative;}#sk-container-id-3 div.sk-item::before, #sk-container-id-3 div.sk-parallel-item::before {content: \"\";position: absolute;border-left: 1px solid gray;box-sizing: border-box;top: 0;bottom: 0;left: 50%;z-index: -1;}#sk-container-id-3 div.sk-parallel-item {display: flex;flex-direction: column;z-index: 1;position: relative;background-color: white;}#sk-container-id-3 div.sk-parallel-item:first-child::after {align-self: flex-end;width: 50%;}#sk-container-id-3 div.sk-parallel-item:last-child::after {align-self: flex-start;width: 50%;}#sk-container-id-3 div.sk-parallel-item:only-child::after {width: 0;}#sk-container-id-3 div.sk-dashed-wrapped {border: 1px dashed gray;margin: 0 0.4em 0.5em 0.4em;box-sizing: border-box;padding-bottom: 0.4em;background-color: white;}#sk-container-id-3 div.sk-label label {font-family: monospace;font-weight: bold;display: inline-block;line-height: 1.2em;}#sk-container-id-3 div.sk-label-container {text-align: center;}#sk-container-id-3 div.sk-container {/* jupyter's `normalize.less` sets `[hidden] { display: none; }` but bootstrap.min.css set `[hidden] { display: none !important; }` so we also need the `!important` here to be able to override the default hidden behavior on the sphinx rendered scikit-learn.org. See: https://github.com/scikit-learn/scikit-learn/issues/21755 */display: inline-block !important;position: relative;}#sk-container-id-3 div.sk-text-repr-fallback {display: none;}</style><div id=\"sk-container-id-3\" class=\"sk-top-container\"><div class=\"sk-text-repr-fallback\"><pre>GridSearchCV(cv=10, estimator=GradientBoostingClassifier(random_state=0),\n",
       "             param_grid={&#x27;learning_rate&#x27;: array([1.  , 0.1 , 0.05, 0.01]),\n",
       "                         &#x27;max_depth&#x27;: array([ 1,  2,  3,  5, 10, 15], dtype=int64),\n",
       "                         &#x27;n_estimators&#x27;: array([  100,  1000, 10000], dtype=int64)})</pre><b>In a Jupyter environment, please rerun this cell to show the HTML representation or trust the notebook. <br />On GitHub, the HTML representation is unable to render, please try loading this page with nbviewer.org.</b></div><div class=\"sk-container\" hidden><div class=\"sk-item sk-dashed-wrapped\"><div class=\"sk-label-container\"><div class=\"sk-label sk-toggleable\"><input class=\"sk-toggleable__control sk-hidden--visually\" id=\"sk-estimator-id-7\" type=\"checkbox\" ><label for=\"sk-estimator-id-7\" class=\"sk-toggleable__label sk-toggleable__label-arrow\">GridSearchCV</label><div class=\"sk-toggleable__content\"><pre>GridSearchCV(cv=10, estimator=GradientBoostingClassifier(random_state=0),\n",
       "             param_grid={&#x27;learning_rate&#x27;: array([1.  , 0.1 , 0.05, 0.01]),\n",
       "                         &#x27;max_depth&#x27;: array([ 1,  2,  3,  5, 10, 15], dtype=int64),\n",
       "                         &#x27;n_estimators&#x27;: array([  100,  1000, 10000], dtype=int64)})</pre></div></div></div><div class=\"sk-parallel\"><div class=\"sk-parallel-item\"><div class=\"sk-item\"><div class=\"sk-label-container\"><div class=\"sk-label sk-toggleable\"><input class=\"sk-toggleable__control sk-hidden--visually\" id=\"sk-estimator-id-8\" type=\"checkbox\" ><label for=\"sk-estimator-id-8\" class=\"sk-toggleable__label sk-toggleable__label-arrow\">estimator: GradientBoostingClassifier</label><div class=\"sk-toggleable__content\"><pre>GradientBoostingClassifier(random_state=0)</pre></div></div></div><div class=\"sk-serial\"><div class=\"sk-item\"><div class=\"sk-estimator sk-toggleable\"><input class=\"sk-toggleable__control sk-hidden--visually\" id=\"sk-estimator-id-9\" type=\"checkbox\" ><label for=\"sk-estimator-id-9\" class=\"sk-toggleable__label sk-toggleable__label-arrow\">GradientBoostingClassifier</label><div class=\"sk-toggleable__content\"><pre>GradientBoostingClassifier(random_state=0)</pre></div></div></div></div></div></div></div></div></div></div>"
      ],
      "text/plain": [
       "PyObject GridSearchCV(cv=10, estimator=GradientBoostingClassifier(random_state=0),\n",
       "             param_grid={'learning_rate': array([1.  , 0.1 , 0.05, 0.01]),\n",
       "                         'max_depth': array([ 1,  2,  3,  5, 10, 15], dtype=int64),\n",
       "                         'n_estimators': array([  100,  1000, 10000], dtype=int64)})"
      ]
     },
     "execution_count": 12,
     "metadata": {},
     "output_type": "execute_result"
    }
   ],
   "source": [
    "models = GridSearchCV(BDT, param_grid=params, cv=10).fit(X_train,Y_train)"
   ]
  },
  {
   "cell_type": "code",
   "execution_count": 14,
   "id": "90ab4f93",
   "metadata": {},
   "outputs": [
    {
     "data": {
      "text/plain": [
       "(0.8540441176470587, Dict{Any, Any}(\"max_depth\" => 1, \"learning_rate\" => 0.01, \"n_estimators\" => 100))"
      ]
     },
     "execution_count": 14,
     "metadata": {},
     "output_type": "execute_result"
    }
   ],
   "source": [
    "models.best_score_, models.best_params_"
   ]
  },
  {
   "cell_type": "code",
   "execution_count": 17,
   "id": "d577464d",
   "metadata": {},
   "outputs": [
    {
     "data": {
      "text/plain": [
       "0.7857142857142857"
      ]
     },
     "execution_count": 17,
     "metadata": {},
     "output_type": "execute_result"
    },
    {
     "name": "stderr",
     "output_type": "stream",
     "text": [
      "WARNING: both ScikitLearn and DataFrames export \"transform\"; uses of it in module Main must be qualified\n"
     ]
    }
   ],
   "source": [
    "models.score(X_test,Y_test)"
   ]
  },
  {
   "cell_type": "code",
   "execution_count": 35,
   "id": "d6c2c05d",
   "metadata": {},
   "outputs": [
    {
     "data": {
      "text/plain": [
       "0.8095238095238095"
      ]
     },
     "execution_count": 35,
     "metadata": {},
     "output_type": "execute_result"
    }
   ],
   "source": [
    "BDT2 = GradientBoostingClassifier(n_estimators = 1000, learning_rate = 0.01, max_depth = 10, random_state=0).fit(X_train,Y_train)\n",
    "BDT2.score(X_test,Y_test)"
   ]
  },
  {
   "cell_type": "markdown",
   "id": "fb11167e",
   "metadata": {},
   "source": [
    "accuracy"
   ]
  },
  {
   "cell_type": "code",
   "execution_count": 95,
   "id": "04a2d84c",
   "metadata": {},
   "outputs": [
    {
     "data": {
      "image/png": "[encoded data removed]",
      "text/plain": [
       "Figure(PyObject <Figure size 640x480 with 2 Axes>)"
      ]
     },
     "metadata": {},
     "output_type": "display_data"
    }
   ],
   "source": [
    "Y_pred = BDT2.predict(X_test)\n",
    "c_d = length(Y_pred[Y_pred .== 1 .& Y_test .== -1])/length(Y_pred[Y_test .== -1])\n",
    "d_c = length(Y_pred[Y_pred .== -1 .& Y_test .== 1])/length(Y_pred[Y_test .== 1])\n",
    "c_c = length(Y_pred[Y_pred .== 1 .& Y_test .== 1])/length(Y_pred[Y_test .== 1])\n",
    "d_d = length(Y_pred[Y_pred .== -1 .& Y_test .== -1])/length(Y_pred[Y_test .== -1])\n",
    "acc_mat = [c_c d_c; c_d d_d]\n",
    "labels = [\"cond\",\"disolv\"]\n",
    "heatmap(acc_mat,annot=true,cmap=\"vlag\",xticklabels=labels,yticklabels=labels);"
   ]
  },
  {
   "cell_type": "markdown",
   "id": "c222ca58",
   "metadata": {},
   "source": [
    "feature importance"
   ]
  },
  {
   "cell_type": "code",
   "execution_count": 55,
   "id": "efc2b518",
   "metadata": {},
   "outputs": [
    {
     "data": {
      "text/plain": [
       "4-element Vector{Float64}:\n",
       " 0.458252021636815\n",
       " 0.44976057960566884\n",
       " 0.027176104287582083\n",
       " 0.0648112944699341"
      ]
     },
     "execution_count": 55,
     "metadata": {},
     "output_type": "execute_result"
    }
   ],
   "source": [
    "BDT2.feature_importances_"
   ]
  }
 ],
 "metadata": {
  "kernelspec": {
   "display_name": "Julia 1.9.1",
   "language": "julia",
   "name": "julia-1.9"
  },
  "language_info": {
   "file_extension": ".jl",
   "mimetype": "application/julia",
   "name": "julia",
   "version": "1.9.1"
  }
 },
 "nbformat": 4,
 "nbformat_minor": 5
}
