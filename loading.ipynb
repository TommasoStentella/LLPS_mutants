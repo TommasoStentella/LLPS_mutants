{
 "cells": [
  {
   "cell_type": "markdown",
   "id": "e6c93a22-ee3a-4c7b-9358-a158114a7241",
   "metadata": {},
   "source": [
    "# ML based prediction of condensation promoting or decreasing mutation"
   ]
  },
  {
   "cell_type": "code",
   "execution_count": 45,
   "id": "fd563ad1-c7b0-4d56-8685-31be31e85b04",
   "metadata": {},
   "outputs": [
    {
     "name": "stderr",
     "output_type": "stream",
     "text": [
      "\u001b[32m\u001b[1m  Activating\u001b[22m\u001b[39m project at `~/Documents/Materiale UNI/V anno/Biological Datasets/code/project`\n"
     ]
    }
   ],
   "source": [
    "using Pkg; Pkg.activate(\"project\")\n",
    "using FASTX\n",
    "using CSV\n",
    "using PyPlot\n",
    "using DataFrames"
   ]
  },
  {
   "cell_type": "code",
   "execution_count": 100,
   "id": "e9c16757-5cae-43e3-88c9-0da3269a6fdf",
   "metadata": {},
   "outputs": [
    {
     "ename": "LoadError",
     "evalue": "MethodError: no method matching setindex!(::StringViews.StringView{SubArray{UInt8, 1, Vector{UInt8}, Tuple{UnitRange{Int64}}, true}}, ::String, ::Int64)",
     "output_type": "error",
     "traceback": [
      "MethodError: no method matching setindex!(::StringViews.StringView{SubArray{UInt8, 1, Vector{UInt8}, Tuple{UnitRange{Int64}}, true}}, ::String, ::Int64)",
      "",
      "Stacktrace:",
      " [1] top-level scope",
      "   @ ./In[100]:66"
     ]
    }
   ],
   "source": [
    "listdir = readdir(\"../data/WT\")\n",
    "\n",
    "w_seq = []\n",
    "w_id = []\n",
    "for f in listdir\n",
    "    FASTAReader(open(\"../data/WT/$f\")) do reader\n",
    "       for record in reader\n",
    "            push!(w_seq, sequence(record))\n",
    "            push!(w_id, description(record))\n",
    "       end\n",
    "    end\n",
    "end\n",
    "\n",
    "df = CSV.read(\"../data/promote.txt\",DataFrame,header=0,silencewarnings=true)\n",
    "\n",
    "data = []\n",
    "for r in eachrow(df)\n",
    "    i = 2\n",
    "    id = r[1]\n",
    "    mut = r[i]\n",
    "    while typeof(mut) != Missing\n",
    "        temp = []\n",
    "        push!(temp, w_seq[w_id .== id][1])\n",
    "        push!(temp, mut)\n",
    "        push!(temp, 'c') # condensate\n",
    "        push!(data, temp)\n",
    "        i = i < length(r) ? i + 1 : break\n",
    "        mut = r[i]\n",
    "    end\n",
    "end\n",
    "\n",
    "df = CSV.read(\"../data/reduce.txt\",DataFrame,header=0,silencewarnings=true)\n",
    "for r in eachrow(df)\n",
    "    i = 2\n",
    "    id = r[1]\n",
    "    mut = r[i]\n",
    "    while typeof(mut) != Missing\n",
    "        temp = []\n",
    "        push!(temp, w_seq[w_id .== id][1])\n",
    "        push!(temp, mut)\n",
    "        push!(temp, 'd') # disolve\n",
    "        push!(data, temp)\n",
    "        i = i < length(r) ? i + 1 : break\n",
    "        mut = r[i]\n",
    "    end\n",
    "end\n",
    "\n",
    "listdir = readdir(\"../data/COND\")\n",
    "\n",
    "_seq = []\n",
    "_id = []\n",
    "for f in listdir\n",
    "    FASTAReader(open(\"../data/COND/$f\")) do reader\n",
    "       for record in reader\n",
    "            push!(_seq, sequence(record))\n",
    "            push!(_id, description(record))\n",
    "       end\n",
    "    end\n",
    "end\n",
    "\n",
    "for (i,j) in zip(_seq,_id)\n",
    "    temp = []\n",
    "    mut = j[findfirst('_',j)+1:end]\n",
    "    mu_position = parse(Int,mut[2:end-1])\n",
    "    wt = i[1]\n",
    "    wt[mu_position] == mut[end] ? wt[mu_position] = string(mut[1]) : error(\"mutated sequence and mutation annotations do not match\")\n",
    "    push!(temp, wt)\n",
    "    push!(temp, mut)\n",
    "    push!(temp, 'c')\n",
    "    push!(data, temp)\n",
    "end\n",
    "\n",
    "listdir = readdir(\"../data/DISOLV\")\n",
    "\n",
    "_seq = []\n",
    "_id = []\n",
    "for f in listdir\n",
    "    FASTAReader(open(\"../data/DISOLV/$f\")) do reader\n",
    "       for record in reader\n",
    "            push!(_seq, sequence(record))\n",
    "            push!(_id, description(record))\n",
    "       end\n",
    "    end\n",
    "end\n",
    "\n",
    "for (i,j) in zip(_seq,_id)\n",
    "    temp = []\n",
    "    mut = j[findfirst('_',j)+1:end]\n",
    "    mu_position = parse(Int,mut[2:end-1])\n",
    "    wt = i[1]\n",
    "    wt[mu_position] == mut[end] ? wt[mu_position] = mut[1] : error(\"mutated sequence and mutation annotations do not match\")\n",
    "    push!(temp, wt)\n",
    "    push!(temp, mut)\n",
    "    push!(temp, 'd')\n",
    "    push!(data, temp)\n",
    "end\n",
    "    "
   ]
  },
  {
   "cell_type": "code",
   "execution_count": 112,
   "id": "05ce2a37-9014-430a-8d66-ae099a53ed06",
   "metadata": {},
   "outputs": [
    {
     "data": {
      "text/plain": [
       "\"MSGGRFDFDDGGAYCGGWEGGKAHGHGLCTGPKGQGEYSGSWNFGFEVAGVYTWPSGNTFEGYWSQGKRHGLGIETKGRWLYKGEWTHGFKGRYGIRQSSSSGAKYEGTWNNGLQDGYGTETYADGGTYQGQFTNGMRHGYGVRQSVPYGMAVVVRSPLRTSLSSLRSEHSNGTVAPDSPASPASDGPALPSPAIPRGGFALSLLANAEAAARAPKGGGLFQRGALLGKLRRAESRTSVGSQRSRVSFLKSDLSSGASDAASTASLGEAAE\" ⋯ 156 bytes ⋯ \"QPGPEYQKRRLLQEILENSESLLEPPDRGAGAAGLPQPPRESPQLHERETPRPEGGSPSPAGTPPQPKRPRPGVSKDGLLSPGAWNGEPSGEGSRSVTPSEGAGRRSPARPATERMAIEALQAPPAPSREPEVALYQGYHSYAVRTTPPEPPPFEDQPEPEVSGSESAPSSPATAPLQAPTLRGPEPARETPAKLEPKPIIPKAEPRAKARKTEARGLTKAGAKKKARKEAALAAEAEVEVEEVPNTILICMVILLNIGLAILFVHLLTa\""
      ]
     },
     "execution_count": 112,
     "metadata": {},
     "output_type": "execute_result"
    }
   ],
   "source": [
    "a = data[1][1]\n",
    "\"$a$('a')\""
   ]
  },
  {
   "cell_type": "code",
   "execution_count": 72,
   "id": "21ccac79-6c48-4632-b659-cea130889fed",
   "metadata": {},
   "outputs": [],
   "source": [
    "listdir = readdir(\"../data/COND\")\n",
    "\n",
    "cond = []\n",
    "for f in listdir\n",
    "    FASTAReader(open(\"../data/COND/$f\")) do reader\n",
    "       for record in reader\n",
    "            push!(cond, record)\n",
    "       end\n",
    "    end\n",
    "end"
   ]
  },
  {
   "cell_type": "code",
   "execution_count": 89,
   "id": "c62daf6b-f564-4315-afea-4f5d13ae3913",
   "metadata": {},
   "outputs": [
    {
     "data": {
      "text/plain": [
       "\"A\""
      ]
     },
     "execution_count": 89,
     "metadata": {},
     "output_type": "execute_result"
    }
   ],
   "source": [
    "string('A')"
   ]
  },
  {
   "cell_type": "code",
   "execution_count": null,
   "id": "6d0e1075-651d-4c82-8921-50acf1fbf863",
   "metadata": {},
   "outputs": [],
   "source": []
  },
  {
   "cell_type": "code",
   "execution_count": null,
   "id": "d4a42bd0-53c9-40d0-9330-a043bcb3dc67",
   "metadata": {},
   "outputs": [],
   "source": []
  }
 ],
 "metadata": {
  "kernelspec": {
   "display_name": "Julia 1.9.1",
   "language": "julia",
   "name": "julia-1.9"
  },
  "language_info": {
   "file_extension": ".jl",
   "mimetype": "application/julia",
   "name": "julia",
   "version": "1.9.1"
  }
 },
 "nbformat": 4,
 "nbformat_minor": 5
}
